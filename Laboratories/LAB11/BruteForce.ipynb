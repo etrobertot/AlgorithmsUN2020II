{
  "nbformat": 4,
  "nbformat_minor": 0,
  "metadata": {
    "colab": {
      "name": "BruteForce.ipynb",
      "provenance": [],
      "collapsed_sections": []
    },
    "kernelspec": {
      "name": "python3",
      "display_name": "Python 3"
    }
  },
  "cells": [
    {
      "cell_type": "markdown",
      "metadata": {
        "id": "HHuXlGRk3cY9"
      },
      "source": [
        "# **Laboratorio 11**"
      ]
    },
    {
      "cell_type": "markdown",
      "metadata": {
        "id": "XHKSUQWu3_mp"
      },
      "source": [
        "**Punto 1.** Solve  Problem A – Ehab and another construction problem  from Complete Search in Vjudge and in Colab"
      ]
    },
    {
      "cell_type": "markdown",
      "metadata": {
        "id": "CYBvDwyT4RBg"
      },
      "source": [
        "**a. Using Brute Force.**"
      ]
    },
    {
      "cell_type": "code",
      "metadata": {
        "colab": {
          "base_uri": "https://localhost:8080/"
        },
        "id": "hd7Pjawo_N4S",
        "outputId": "17dbc16d-d963-4e60-d0c9-d28244d67af3"
      },
      "source": [
        "import time\r\n",
        "\r\n",
        "\r\n",
        "\r\n",
        "\r\n",
        "x = int(input())\r\n",
        "start_time = time.time() \r\n",
        "flag = False\r\n",
        "for a in range(1, x + 1):\r\n",
        "  for b in range(1, x + 1):\r\n",
        "    if a%b == 0 and a*b > x and a/b < x :\r\n",
        "      print(a, b)\r\n",
        "      flag = True\r\n",
        "      break\r\n",
        "  if flag:\r\n",
        "    break\r\n",
        "if not flag:\r\n",
        "  print(-1)\r\n",
        "\r\n",
        "stop_time = time.time()\r\n",
        "run_time=stop_time - start_time\r\n",
        "print(run_time)\r\n"
      ],
      "execution_count": null,
      "outputs": [
        {
          "output_type": "stream",
          "text": [
            "50\n",
            "8 8\n",
            "0.0007474422454833984\n"
          ],
          "name": "stdout"
        }
      ]
    },
    {
      "cell_type": "markdown",
      "metadata": {
        "id": "L7LrF6LUXQ_1"
      },
      "source": [
        "FOTO JUEZ\r\n",
        "\r\n"
      ]
    },
    {
      "cell_type": "code",
      "metadata": {
        "colab": {
          "base_uri": "https://localhost:8080/"
        },
        "id": "dCP2eVTEm2BU",
        "outputId": "3cef5f0d-de54-432d-a231-0c5a40614be4"
      },
      "source": [
        "![](https://drive.google.com/file/d/1BEgLXGUMqKFmvV9_LrCCIeddG5v7mO9s/view?usp=sharing)"
      ],
      "execution_count": null,
      "outputs": [
        {
          "output_type": "stream",
          "text": [
            "/bin/bash: -c: line 0: syntax error near unexpected token `https://drive.google.com/file/d/1BEgLXGUMqKFmvV9_LrCCIeddG5v7mO9s/view?usp=sharing'\n",
            "/bin/bash: -c: line 0: `[](https://drive.google.com/file/d/1BEgLXGUMqKFmvV9_LrCCIeddG5v7mO9s/view?usp=sharing)'\n"
          ],
          "name": "stdout"
        }
      ]
    },
    {
      "cell_type": "markdown",
      "metadata": {
        "id": "lWnFz9dsnQwu"
      },
      "source": [
        "![picture](https://drive.google.com/file/d/1BEgLXGUMqKFmvV9_LrCCIeddG5v7mO9s/view?usp=sharing)"
      ]
    },
    {
      "cell_type": "markdown",
      "metadata": {
        "id": "18vtcVPu4k9i"
      },
      "source": [
        "**b. Using a Better Search.**"
      ]
    },
    {
      "cell_type": "code",
      "metadata": {
        "id": "VhOxRn1tXjyd",
        "colab": {
          "base_uri": "https://localhost:8080/"
        },
        "outputId": "5d3493c7-bfe2-4ca4-c693-e85e17d890b4"
      },
      "source": [
        "import time\r\n",
        "\r\n",
        "\r\n",
        "\r\n",
        "def force(x):\r\n",
        "  if (x < 1):\r\n",
        "    return\r\n",
        "  else:\r\n",
        "    a=1\r\n",
        "    while (a<x+1): \r\n",
        "      b = 2;\r\n",
        "      while (b <= x):\r\n",
        "        if (a%b == 0):\r\n",
        "          condition2 = (a*b) > x\r\n",
        "          condition3 = (a/b) < x\r\n",
        "          if (condition2 and condition3):\r\n",
        "            print(a,b)\r\n",
        "            return\r\n",
        "        b += 1; \r\n",
        "      a=a+1     \r\n",
        "  print(-1)\r\n",
        "  return\r\n",
        "\r\n",
        "x = int(input())\r\n",
        "start_time = time.time()\r\n",
        "force(x)\r\n",
        "stop_time = time.time()\r\n",
        "run_time=stop_time - start_time\r\n",
        "print(run_time)"
      ],
      "execution_count": null,
      "outputs": [
        {
          "output_type": "stream",
          "text": [
            "50\n",
            "8 8\n",
            "0.0007307529449462891\n"
          ],
          "name": "stdout"
        }
      ]
    },
    {
      "cell_type": "markdown",
      "metadata": {
        "id": "gnO75nzH5FQS"
      },
      "source": [
        "**c. Using The Two One Step Forms**"
      ]
    },
    {
      "cell_type": "code",
      "metadata": {
        "id": "jXgbDrNe49L4",
        "colab": {
          "base_uri": "https://localhost:8080/"
        },
        "outputId": "8711ab55-f7a9-4289-b557-6740954c2a43"
      },
      "source": [
        "import time\r\n",
        "\r\n",
        "x = int(input())\r\n",
        "start_time = time.time()\r\n",
        "if (x == 1):\r\n",
        "  print(-1)\r\n",
        "else:\r\n",
        "  print(x, x)\r\n",
        "stop_time = time.time()\r\n",
        "run_time=stop_time - start_time\r\n",
        "print(run_time)"
      ],
      "execution_count": null,
      "outputs": [
        {
          "output_type": "stream",
          "text": [
            "50\n",
            "50 50\n",
            "0.0002143383026123047\n"
          ],
          "name": "stdout"
        }
      ]
    },
    {
      "cell_type": "code",
      "metadata": {
        "colab": {
          "base_uri": "https://localhost:8080/"
        },
        "id": "AlqQlag5WAeB",
        "outputId": "332264dc-7db9-4eb6-e114-4d3fb90ec40c"
      },
      "source": [
        "import math\r\n",
        " \r\n",
        "x = int(input())\r\n",
        "start_time = time.time()\r\n",
        "if x == 1:\r\n",
        "  print(-1)\r\n",
        "else:\r\n",
        "  if math.floor(x / 2) % 2 == 0:\r\n",
        "    print(math.floor(x / 2 ) + 2, 2)\r\n",
        "  else:\r\n",
        "    print(math.floor(x / 2) + 1, 2)\r\n",
        "\r\n",
        "stop_time = time.time()\r\n",
        "run_time=stop_time - start_time\r\n",
        "print(run_time)"
      ],
      "execution_count": null,
      "outputs": [
        {
          "output_type": "stream",
          "text": [
            "50\n",
            "26 2\n",
            "0.0002231597900390625\n"
          ],
          "name": "stdout"
        }
      ]
    },
    {
      "cell_type": "markdown",
      "metadata": {
        "id": "p5C37ArgXZDU"
      },
      "source": [
        "FOTO JUEZ"
      ]
    },
    {
      "cell_type": "markdown",
      "metadata": {
        "id": "qO_KcFe-5U1p"
      },
      "source": [
        "**d. In Colab include an image with group’s first member’s id fo the solutions in colab.**"
      ]
    },
    {
      "cell_type": "markdown",
      "metadata": {
        "id": "Ly4whjCz58KJ"
      },
      "source": [
        "**Punto 2.** Solve the Subset Sum Problem github."
      ]
    },
    {
      "cell_type": "markdown",
      "metadata": {
        "id": "fhbJB_iE6EdZ"
      },
      "source": [
        "**a. Using brute force bruteforce.py**"
      ]
    },
    {
      "cell_type": "markdown",
      "metadata": {
        "id": "O3VanM0b6MA4"
      },
      "source": [
        "**b. For n=10,20,30,50,100,1000 and report when in Colab you run out of memory.**"
      ]
    },
    {
      "cell_type": "markdown",
      "metadata": {
        "id": "tgQrHe4Q8U6C"
      },
      "source": [
        "**Punto 3.** Solve the eight queens problem in colab."
      ]
    },
    {
      "cell_type": "markdown",
      "metadata": {
        "id": "eSbfP8a08d6p"
      },
      "source": [
        "**a. Algorithms in C++ Complete Search, Greedy, Divide and Conquer, Dynamic Programming towardsdatascience.**"
      ]
    },
    {
      "cell_type": "markdown",
      "metadata": {
        "id": "nugLKY2Y8kLA"
      },
      "source": [
        "**b. Eight queens puzzle – sample programwikipedia.**"
      ]
    },
    {
      "cell_type": "markdown",
      "metadata": {
        "id": "4FqVUcCy8-Sa"
      },
      "source": [
        "**c. N Queen Problem | Backtracking-3 https://www.geeksforgeeks.org/n-queen-problem-backtracking-3/**"
      ]
    },
    {
      "cell_type": "markdown",
      "metadata": {
        "id": "psPKmH0Jq379"
      },
      "source": [
        "### **Implementation of Backtracking Solution**"
      ]
    },
    {
      "cell_type": "code",
      "metadata": {
        "id": "CiF-Q3Zeq3A_"
      },
      "source": [
        "# Python3 program to solve N Queen  \r\n",
        "# Problem using backtracking \r\n",
        "global N \r\n",
        "N = 4\r\n",
        "  \r\n",
        "def printSolution(board): \r\n",
        "    for i in range(N): \r\n",
        "        for j in range(N): \r\n",
        "            print (board[i][j], end = \" \") \r\n",
        "        print() \r\n",
        "  \r\n",
        "# A utility function to check if a queen can \r\n",
        "# be placed on board[row][col]. Note that this \r\n",
        "# function is called when \"col\" queens are \r\n",
        "# already placed in columns from 0 to col -1. \r\n",
        "# So we need to check only left side for \r\n",
        "# attacking queens \r\n",
        "def isSafe(board, row, col): \r\n",
        "  \r\n",
        "    # Check this row on left side \r\n",
        "    for i in range(col): \r\n",
        "        if board[row][i] == 1: \r\n",
        "            return False\r\n",
        "  \r\n",
        "    # Check upper diagonal on left side \r\n",
        "    for i, j in zip(range(row, -1, -1),  \r\n",
        "                    range(col, -1, -1)): \r\n",
        "        if board[i][j] == 1: \r\n",
        "            return False\r\n",
        "  \r\n",
        "    # Check lower diagonal on left side \r\n",
        "    for i, j in zip(range(row, N, 1),  \r\n",
        "                    range(col, -1, -1)): \r\n",
        "        if board[i][j] == 1: \r\n",
        "            return False\r\n",
        "  \r\n",
        "    return True\r\n",
        "  \r\n",
        "def solveNQUtil(board, col): \r\n",
        "      \r\n",
        "    # base case: If all queens are placed \r\n",
        "    # then return true \r\n",
        "    if col >= N: \r\n",
        "        return True\r\n",
        "  \r\n",
        "    # Consider this column and try placing \r\n",
        "    # this queen in all rows one by one \r\n",
        "    for i in range(N): \r\n",
        "  \r\n",
        "        if isSafe(board, i, col): \r\n",
        "              \r\n",
        "            # Place this queen in board[i][col] \r\n",
        "            board[i][col] = 1\r\n",
        "  \r\n",
        "            # recur to place rest of the queens \r\n",
        "            if solveNQUtil(board, col + 1) == True: \r\n",
        "                return True\r\n",
        "  \r\n",
        "            # If placing queen in board[i][col \r\n",
        "            # doesn't lead to a solution, then \r\n",
        "            # queen from board[i][col] \r\n",
        "            board[i][col] = 0\r\n",
        "  \r\n",
        "    # if the queen can not be placed in any row in \r\n",
        "    # this colum col then return false \r\n",
        "    return False\r\n",
        "  \r\n",
        "# This function solves the N Queen problem using \r\n",
        "# Backtracking. It mainly uses solveNQUtil() to \r\n",
        "# solve the problem. It returns false if queens \r\n",
        "# cannot be placed, otherwise return true and \r\n",
        "# placement of queens in the form of 1s. \r\n",
        "# note that there may be more than one \r\n",
        "# solutions, this function prints one of the \r\n",
        "# feasible solutions. \r\n",
        "def solveNQ(): \r\n",
        "    board = [ [0, 0, 0, 0], \r\n",
        "              [0, 0, 0, 0], \r\n",
        "              [0, 0, 0, 0], \r\n",
        "              [0, 0, 0, 0] ] \r\n",
        "  \r\n",
        "    if solveNQUti"
      ],
      "execution_count": null,
      "outputs": []
    },
    {
      "cell_type": "markdown",
      "metadata": {
        "id": "NP_UzxJbrYJb"
      },
      "source": [
        "### **Implementation of Backtracking Solution (with optimization)**"
      ]
    },
    {
      "cell_type": "code",
      "metadata": {
        "colab": {
          "base_uri": "https://localhost:8080/"
        },
        "id": "X3r9pHbknqnR",
        "outputId": "bdd235ef-019a-4439-b467-27bce98478c2"
      },
      "source": [
        "\"\"\" Python3 program to solve N Queen Problem using  \r\n",
        "backtracking \"\"\"\r\n",
        "N = 4\r\n",
        "  \r\n",
        "\"\"\" ld is an array where its indices indicate row-col+N-1  \r\n",
        "(N-1) is for shifting the difference to store negative  \r\n",
        "indices \"\"\"\r\n",
        "ld = [0] * 30\r\n",
        "  \r\n",
        "\"\"\" rd is an array where its indices indicate row+col  \r\n",
        "and used to check whether a queen can be placed on  \r\n",
        "right diagonal or not\"\"\"\r\n",
        "rd = [0] * 30\r\n",
        "  \r\n",
        "\"\"\"column array where its indices indicates column and  \r\n",
        "used to check whether a queen can be placed in that  \r\n",
        "    row or not\"\"\"\r\n",
        "cl = [0] * 30\r\n",
        "  \r\n",
        "\"\"\" A utility function to print solution \"\"\"\r\n",
        "def printSolution(board):  \r\n",
        "    for i in range(N): \r\n",
        "        for j in range(N): \r\n",
        "            print(board[i][j], end = \" \") \r\n",
        "        print()  \r\n",
        "  \r\n",
        "\"\"\" A recursive utility function to solve N  \r\n",
        "Queen problem \"\"\"\r\n",
        "def solveNQUtil(board, col):  \r\n",
        "      \r\n",
        "    \"\"\" base case: If all queens are placed \r\n",
        "        then return True \"\"\"\r\n",
        "    if (col >= N): \r\n",
        "        return True\r\n",
        "          \r\n",
        "    \"\"\" Consider this column and try placing \r\n",
        "        this queen in all rows one by one \"\"\"\r\n",
        "    for i in range(N): \r\n",
        "          \r\n",
        "        \"\"\" Check if the queen can be placed on board[i][col] \"\"\"\r\n",
        "        \"\"\" A check if a queen can be placed on board[row][col]. \r\n",
        "        We just need to check ld[row-col+n-1] and rd[row+coln]  \r\n",
        "        where ld and rd are for left and right diagonal respectively\"\"\"\r\n",
        "        if ((ld[i - col + N - 1] != 1 and \r\n",
        "             rd[i + col] != 1) and cl[i] != 1): \r\n",
        "                   \r\n",
        "            \"\"\" Place this queen in board[i][col] \"\"\"\r\n",
        "            board[i][col] = 1\r\n",
        "            ld[i - col + N - 1] = rd[i + col] = cl[i] = 1\r\n",
        "              \r\n",
        "            \"\"\" recur to place rest of the queens \"\"\"\r\n",
        "            if (solveNQUtil(board, col + 1)): \r\n",
        "                return True\r\n",
        "                  \r\n",
        "            \"\"\" If placing queen in board[i][col]  \r\n",
        "            doesn't lead to a solution,  \r\n",
        "            then remove queen from board[i][col] \"\"\"\r\n",
        "            board[i][col] = 0 # BACKTRACK  \r\n",
        "            ld[i - col + N - 1] = rd[i + col] = cl[i] = 0\r\n",
        "              \r\n",
        "            \"\"\" If the queen cannot be placed in \r\n",
        "            any row in this colum col then return False \"\"\"\r\n",
        "    return False\r\n",
        "      \r\n",
        "\"\"\" This function solves the N Queen problem using  \r\n",
        "Backtracking. It mainly uses solveNQUtil() to  \r\n",
        "solve the problem. It returns False if queens  \r\n",
        "cannot be placed, otherwise, return True and  \r\n",
        "prints placement of queens in the form of 1s.  \r\n",
        "Please note that there may be more than one  \r\n",
        "solutions, this function prints one of the  \r\n",
        "feasible solutions.\"\"\"\r\n",
        "def solveNQ(): \r\n",
        "    board = [[0, 0, 0, 0],  \r\n",
        "             [0, 0, 0, 0], \r\n",
        "             [0, 0, 0, 0], \r\n",
        "             [0, 0, 0, 0]] \r\n",
        "    if (solveNQUtil(board, 0) == False): \r\n",
        "        printf(\"Solution does not exist\") \r\n",
        "        return False\r\n",
        "    printSolution(board) \r\n",
        "    return True\r\n",
        "      \r\n",
        "# Driver Code \r\n",
        "solveNQ()  \r\n",
        "  \r\n",
        "# This code is contributed by SHUBHAMSINGH1"
      ],
      "execution_count": null,
      "outputs": [
        {
          "output_type": "stream",
          "text": [
            "0 0 1 0 \n",
            "1 0 0 0 \n",
            "0 0 0 1 \n",
            "0 1 0 0 \n"
          ],
          "name": "stdout"
        },
        {
          "output_type": "execute_result",
          "data": {
            "text/plain": [
              "True"
            ]
          },
          "metadata": {
            "tags": []
          },
          "execution_count": 17
        }
      ]
    }
  ]
}